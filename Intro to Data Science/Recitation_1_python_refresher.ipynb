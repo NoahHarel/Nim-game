{
  "nbformat": 4,
  "nbformat_minor": 0,
  "metadata": {
    "kernelspec": {
      "display_name": "Python 3",
      "language": "python",
      "name": "python3"
    },
    "language_info": {
      "codemirror_mode": {
        "name": "ipython",
        "version": 3
      },
      "file_extension": ".py",
      "mimetype": "text/x-python",
      "name": "python",
      "nbconvert_exporter": "python",
      "pygments_lexer": "ipython3",
      "version": "3.6.4"
    },
    "colab": {
      "name": "Recitation_1_python_refresher.ipynb",
      "provenance": [],
      "collapsed_sections": [],
      "include_colab_link": true
    }
  },
  "cells": [
    {
      "cell_type": "markdown",
      "metadata": {
        "id": "view-in-github",
        "colab_type": "text"
      },
      "source": [
        "<a href=\"https://colab.research.google.com/github/NoahHarel/University-projects/blob/master/Intro%20to%20Data%20Science/Recitation_1_python_refresher.ipynb\" target=\"_parent\"><img src=\"https://colab.research.google.com/assets/colab-badge.svg\" alt=\"Open In Colab\"/></a>"
      ]
    },
    {
      "cell_type": "markdown",
      "metadata": {
        "id": "ddxHidXi98g9",
        "colab_type": "text"
      },
      "source": [
        "# An introduction to Python\n",
        "\n",
        "## For today:\n",
        "* Google colab and Jupyter notebook\n",
        "* Python basics\n",
        "* Data structures\n",
        "* if and for statements\n",
        "* functions\n",
        "* Packages:\n",
        "  * Numpy\n",
        "\n",
        "\n",
        "## Resources\n",
        "* Google colab:\n",
        "\n",
        "  https://towardsdatascience.com/getting-started-with-google-colab-f2fff97f594c\n",
        "\n",
        "\n",
        "* Python basics:\n",
        "  - Python Tutorial:\n",
        "\n",
        "    https://bugs.python.org/file47781/Tutorial_EDIT.pdf\n",
        "  \n",
        "    Chapters: 3-7\n",
        "  * Python for Data Science and AI ׂ(IBM - coursera): \n",
        "\n",
        "    https://www.coursera.org/learn/python-for-applied-data-science-ai/home/welcome\n",
        "\n",
        "      You have 3 options: (1) see the 'Audit' version without paying (without submitting the exercises), (2) 7 dayss trial for free or (3) pay 50 $ and achieve a certificate \n",
        "\n",
        "* Numpy: A very nice tutorial http://cs231n.github.io/python-numpy-tutorial/\n",
        "\n",
        "* Pandas: Highly recommended course - (Introduction to Data Science in Python - Michigan university):\n",
        "\n",
        "  same options for enrollment as the IBM course\n",
        "\n",
        "  https://www.coursera.org/learn/python-data-analysis?specialization=data-science-python#about\n",
        "\n",
        "\n",
        "## Installation (for those who don't want to work with Google colab):\n",
        "\n",
        "* Python:\n",
        "\n",
        "  https://www.python.org/downloads/\n",
        "\n",
        "* Anaconda (including Jupyter notebook):\n",
        "\n",
        "  https://www.anaconda.com/distribution/\n",
        "\n"
      ]
    },
    {
      "cell_type": "markdown",
      "metadata": {
        "id": "IsLjpBlD98g_",
        "colab_type": "text"
      },
      "source": [
        "# 1. Basics"
      ]
    },
    {
      "cell_type": "markdown",
      "metadata": {
        "id": "0SXenr4QGAMs",
        "colab_type": "text"
      },
      "source": [
        "## 1.1 Assign and print\n",
        "\n",
        "The equal sign (=) is used to assign a value to variable, <br>\n",
        "Expression syntax is straightforward: the operators (+, -, * ,/) work same as in math. The division (/) returns float, (//) floor division return int, and (%) calculates the reminder. The (**) operator calculates the power. <br>\n",
        "\n"
      ]
    },
    {
      "cell_type": "code",
      "metadata": {
        "id": "-zKVXq6BF_QN",
        "colab_type": "code",
        "outputId": "4f412149-078d-4206-f958-ef1f47c4aded",
        "colab": {
          "base_uri": "https://localhost:8080/",
          "height": 119
        }
      },
      "source": [
        "x = 2\n",
        "y = x + 1.5\n",
        "z = 3 + x\n",
        "\n",
        "w = z/2        # classic division returns a float\n",
        "ww = z//2      # floor division discard the remainder of the division\n",
        "www = z % 2      # the % operator returs the remainder of the division\n",
        "\n",
        "# Different methods of printing\n",
        "print(x, y, z)\n",
        "print(\"x=\",x, \"y=\", y, \"z=\", z)\n",
        "print(\"x= {0} y= {1} z= {2}\".format(x,y,z))\n",
        "\n",
        "print('*'*30)\n",
        "print('w = {0}, ww ={1}, www ={2}'.format(w,ww,www))\n",
        "\n",
        "w"
      ],
      "execution_count": 0,
      "outputs": [
        {
          "output_type": "stream",
          "text": [
            "2 3.5 5\n",
            "x= 2 y= 3.5 z= 5\n",
            "x= 2 y= 3.5 z= 5\n",
            "******************************\n",
            "w = 2.5, ww =2, www =1\n"
          ],
          "name": "stdout"
        },
        {
          "output_type": "execute_result",
          "data": {
            "text/plain": [
              "2.5"
            ]
          },
          "metadata": {
            "tags": []
          },
          "execution_count": 186
        }
      ]
    },
    {
      "cell_type": "markdown",
      "metadata": {
        "id": "Eu_gwb3uJGoN",
        "colab_type": "text"
      },
      "source": [
        "## 1.2 Strings\n",
        "\n",
        "Besides numbers, Python can also manipulats strings. Strings can be written in several ways: (1) in a single qoute ('...') or (2) in double qoute (\"...\"). "
      ]
    },
    {
      "cell_type": "code",
      "metadata": {
        "id": "UJv6Iu5ZJF15",
        "colab_type": "code",
        "outputId": "2bf85c2a-cfc9-443d-8223-ecf09ec2d073",
        "colab": {
          "base_uri": "https://localhost:8080/",
          "height": 34
        }
      },
      "source": [
        "s1 = 'string'\n",
        "s2 = \"string\"\n",
        "s1 == s2"
      ],
      "execution_count": 0,
      "outputs": [
        {
          "output_type": "execute_result",
          "data": {
            "text/plain": [
              "True"
            ]
          },
          "metadata": {
            "tags": []
          },
          "execution_count": 187
        }
      ]
    },
    {
      "cell_type": "code",
      "metadata": {
        "id": "QVSaKgDNyzKi",
        "colab_type": "code",
        "outputId": "10515e3f-4343-4d8f-b428-1dc406c0dfb2",
        "colab": {
          "base_uri": "https://localhost:8080/",
          "height": 333
        }
      },
      "source": [
        "# Concatenate string\n",
        "a = '123' \n",
        "b = '999'\n",
        "print('a=',a, ',length of a=', len(a))\n",
        "print('a+b=',a+b)\n",
        "a+=b\n",
        "print('updated a=', ',length of a=', len(a))\n",
        "print('*'*30)\n",
        "\n",
        "# Subseting a string\n",
        "word = 'Py' 'thon'\n",
        "print(word)\n",
        "\n",
        "print(word[0], '   --character in position 0')\n",
        "print(word[0:3], ' --subset of characters')\n",
        "print(word[-1], '   --lastcharacter')\n",
        "\n",
        "# An error - when the index is out of range\n",
        "# Note that the indexing starts at 0, i.e. word[0] = P, .. word[5] = n\n",
        "word[6]"
      ],
      "execution_count": 0,
      "outputs": [
        {
          "output_type": "stream",
          "text": [
            "a= 123 ,length of a= 3\n",
            "a+b= 123999\n",
            "updated a= ,length of a= 6\n",
            "******************************\n",
            "Python\n",
            "P    --character in position 0\n",
            "Pyt  --subset of characters\n",
            "n    --lastcharacter\n"
          ],
          "name": "stdout"
        },
        {
          "output_type": "error",
          "ename": "IndexError",
          "evalue": "ignored",
          "traceback": [
            "\u001b[0;31m---------------------------------------------------------------------------\u001b[0m",
            "\u001b[0;31mIndexError\u001b[0m                                Traceback (most recent call last)",
            "\u001b[0;32m<ipython-input-188-68a0f241801d>\u001b[0m in \u001b[0;36m<module>\u001b[0;34m()\u001b[0m\n\u001b[1;32m     17\u001b[0m \u001b[0;31m# An error - when the index is out of range\u001b[0m\u001b[0;34m\u001b[0m\u001b[0;34m\u001b[0m\u001b[0;34m\u001b[0m\u001b[0m\n\u001b[1;32m     18\u001b[0m \u001b[0;31m# Note that the indexing starts at 0, i.e. word[0] = P, .. word[5] = n\u001b[0m\u001b[0;34m\u001b[0m\u001b[0;34m\u001b[0m\u001b[0;34m\u001b[0m\u001b[0m\n\u001b[0;32m---> 19\u001b[0;31m \u001b[0mword\u001b[0m\u001b[0;34m[\u001b[0m\u001b[0;36m6\u001b[0m\u001b[0;34m]\u001b[0m\u001b[0;34m\u001b[0m\u001b[0;34m\u001b[0m\u001b[0m\n\u001b[0m",
            "\u001b[0;31mIndexError\u001b[0m: string index out of range"
          ]
        }
      ]
    },
    {
      "cell_type": "markdown",
      "metadata": {
        "id": "Rv550RhaCijN",
        "colab_type": "text"
      },
      "source": [
        "Strings are immutable, this means that we cannot change the value of the string."
      ]
    },
    {
      "cell_type": "markdown",
      "metadata": {
        "id": "xscBe1uhC8Ny",
        "colab_type": "text"
      },
      "source": [
        "#### Few methods with strings\n",
        "replace, startswith, upper, lower, split, join"
      ]
    },
    {
      "cell_type": "code",
      "metadata": {
        "id": "x0AMcEDTC8q9",
        "colab_type": "code",
        "outputId": "81e6ecab-6f35-43bf-d489-2dd2b1624fbb",
        "colab": {
          "base_uri": "https://localhost:8080/",
          "height": 136
        }
      },
      "source": [
        "print(word.replace('P', '!'))\n",
        "print(word) # notice it did not change!\n",
        "print(word.startswith('1')) # a boolean result\n",
        "print('*' *30)\n",
        "print(word.upper())\n",
        "print('three words sentence'.split())\n",
        "print(' '.join(['three', 'words', 'sentence']))"
      ],
      "execution_count": 0,
      "outputs": [
        {
          "output_type": "stream",
          "text": [
            "!ython\n",
            "Python\n",
            "False\n",
            "******************************\n",
            "PYTHON\n",
            "['three', 'words', 'sentence']\n",
            "three words sentence\n"
          ],
          "name": "stdout"
        }
      ]
    },
    {
      "cell_type": "markdown",
      "metadata": {
        "id": "FkcAoIoR98hA",
        "colab_type": "text"
      },
      "source": [
        "## 1.3 lists and Dictionaries\n",
        "\n",
        "**Lists** - are denoted with brackets []. Lists might contain items of different types, but usually the items all have the same type. Like strings, lists can be indexed and sliced. "
      ]
    },
    {
      "cell_type": "code",
      "metadata": {
        "id": "hQp0JsON98hB",
        "colab_type": "code",
        "outputId": "12c92cc1-9b56-41f6-c17e-505e08d5d847",
        "colab": {
          "base_uri": "https://localhost:8080/",
          "height": 136
        }
      },
      "source": [
        "squares = [1,4,9,16] \n",
        "print(squares)\n",
        "print('change content')\n",
        "squares[1] = 2**3 \n",
        "print(squares[1],'is the cube of 2')\n",
        "print('*'*30)\n",
        "\n",
        "\n",
        "mylist1 = []        # create new list, it can be also done with mylist1 = list() \n",
        "mylist1.append('Hello')\n",
        "mylist1.append('World')\n",
        "mylist1.append(2020)\n",
        "mylist1+='HAPPY'\n",
        "\n",
        "print(mylist1)\n",
        "print(mylist1[1])\n",
        "print(mylist1 + ['abbc','b'])"
      ],
      "execution_count": 0,
      "outputs": [
        {
          "output_type": "stream",
          "text": [
            "[1, 4, 9, 16]\n",
            "change content\n",
            "8 is the cube of 2\n",
            "******************************\n",
            "['Hello', 'World', 2020, 'H', 'A', 'P', 'P', 'Y']\n",
            "World\n",
            "['Hello', 'World', 2020, 'H', 'A', 'P', 'P', 'Y', 'abbc', 'b']\n"
          ],
          "name": "stdout"
        }
      ]
    },
    {
      "cell_type": "markdown",
      "metadata": {
        "id": "XCfW90Hq98hL",
        "colab_type": "text"
      },
      "source": [
        "notice that in python indexing is done the CS way from 0 up to the specified number (not including that number!) unlike how normal people think about indexing (and how it is done in R).\n",
        "\n",
        "* append() method appends an element to the end of the list:\n",
        "<br>for more details:\n",
        "https://www.geeksforgeeks.org/append-extend-python/"
      ]
    },
    {
      "cell_type": "markdown",
      "metadata": {
        "id": "mvP0orRGFfY3",
        "colab_type": "text"
      },
      "source": [
        "**Dictionaries** - are denoted with curly brackets {}. Dictionaries have keys and values:\n",
        "* keys - have to be immutable and unique\n",
        "* values - can be immutable, mutable and duplicates\n",
        "\n",
        "The main operations on a dictionary are storing a value with some key and extracting the value given the\n",
        "key"
      ]
    },
    {
      "cell_type": "code",
      "metadata": {
        "id": "yhAw8z7J98hR",
        "colab_type": "code",
        "outputId": "5f736873-bd36-4f74-fa05-0620ead65d62",
        "colab": {
          "base_uri": "https://localhost:8080/",
          "height": 68
        }
      },
      "source": [
        "dict_movies = {}  # create new dictionary, it can be also done with my_dict = dict()\n",
        "dict_movies = {'Thriller':1982, \"The dark side of the moon\": 1973} \n",
        "print(dict_movies)\n",
        "print(dict_movies['Thriller'])\n",
        "dict_movies['The Matrix'] = 1999\n",
        "print(dict_movies)"
      ],
      "execution_count": 0,
      "outputs": [
        {
          "output_type": "stream",
          "text": [
            "{'Thriller': 1982, 'The dark side of the moon': 1973}\n",
            "1982\n",
            "{'Thriller': 1982, 'The dark side of the moon': 1973, 'The Matrix': 1999}\n"
          ],
          "name": "stdout"
        }
      ]
    },
    {
      "cell_type": "markdown",
      "metadata": {
        "id": "rluQ72iq98hX",
        "colab_type": "text"
      },
      "source": [
        "notice that dictionaries have no notion of order.\n",
        "there is no \"first item\" in a dictionary."
      ]
    },
    {
      "cell_type": "code",
      "metadata": {
        "id": "f9atrmMO98hY",
        "colab_type": "code",
        "outputId": "dc2b6299-52be-4332-b3c9-f78fc39fc96e",
        "colab": {
          "base_uri": "https://localhost:8080/",
          "height": 163
        }
      },
      "source": [
        "dict_movies[0]"
      ],
      "execution_count": 0,
      "outputs": [
        {
          "output_type": "error",
          "ename": "KeyError",
          "evalue": "ignored",
          "traceback": [
            "\u001b[0;31m---------------------------------------------------------------------------\u001b[0m",
            "\u001b[0;31mKeyError\u001b[0m                                  Traceback (most recent call last)",
            "\u001b[0;32m<ipython-input-73-d9a76a5dd4fc>\u001b[0m in \u001b[0;36m<module>\u001b[0;34m()\u001b[0m\n\u001b[0;32m----> 1\u001b[0;31m \u001b[0mdict_movies\u001b[0m\u001b[0;34m[\u001b[0m\u001b[0;36m0\u001b[0m\u001b[0;34m]\u001b[0m\u001b[0;34m\u001b[0m\u001b[0;34m\u001b[0m\u001b[0m\n\u001b[0m",
            "\u001b[0;31mKeyError\u001b[0m: 0"
          ]
        }
      ]
    },
    {
      "cell_type": "markdown",
      "metadata": {
        "id": "GKEwyku5sy0b",
        "colab_type": "text"
      },
      "source": [
        "For more information on mutable and inmmutable:\n",
        "\n",
        "https://medium.com/@meghamohan/mutable-and-immutable-side-of-python-c2145cf72747"
      ]
    },
    {
      "cell_type": "markdown",
      "metadata": {
        "id": "UzVMqDOD6cBP",
        "colab_type": "text"
      },
      "source": [
        "## 1.4 For, while loops and if statement"
      ]
    },
    {
      "cell_type": "markdown",
      "metadata": {
        "id": "hyp163Fhptez",
        "colab_type": "text"
      },
      "source": [
        "**if statement** - if True the program can run predefined task, if it False the program will skip the task.\n",
        "Comparison operations compares some value or operand. Then based on some condition, they produce a Boolean:\n",
        "* == [equal to.]\n",
        "* !=  [not equal to...]\n",
        "* <= [smaller and equal to...]\n",
        "\n",
        "Logic operations: \n",
        "* and (&)\n",
        "* or (|)\n",
        "* not (!)\n",
        "\n",
        "\n",
        "Note that we can write in Python both: 'and', &."
      ]
    },
    {
      "cell_type": "code",
      "metadata": {
        "id": "u1bCl9JI6W0V",
        "colab_type": "code",
        "outputId": "46fde57d-d5d7-46ac-ff60-f02add813508",
        "colab": {
          "base_uri": "https://localhost:8080/",
          "height": 68
        }
      },
      "source": [
        "x = 3\n",
        "\n",
        "print('x=4?', x == 4)\n",
        "print('Is x bigger than two and is it an odd number?',(x>2) & (x%2==1))   # we could also write and\n",
        "\n",
        "age = 20\n",
        "name = 'Jhon'\n",
        "if (age>18):\n",
        "  if len(name) <= 3:\n",
        "    print ('adult with short name')\n",
        "  elif (name[0] == name[0].upper()):\n",
        "    print('Welcome {}'.format(name))\n",
        "else:\n",
        "  print('young')\n",
        "\n"
      ],
      "execution_count": 0,
      "outputs": [
        {
          "output_type": "stream",
          "text": [
            "x=4? False\n",
            "Is x bigger than two and is it an odd number? True\n",
            "Welcome Jhon\n"
          ],
          "name": "stdout"
        }
      ]
    },
    {
      "cell_type": "markdown",
      "metadata": {
        "id": "Eg40GNsTwEyv",
        "colab_type": "text"
      },
      "source": [
        "**For loops** - loops preforms a task over and over.\n",
        "\n",
        "**while loops** - a while loop will only run if the condition is met\n",
        "\n",
        "The break statement, breaks out of the innermost enclosing for or while loop."
      ]
    },
    {
      "cell_type": "code",
      "metadata": {
        "id": "ZNoXx8TnsH6G",
        "colab_type": "code",
        "outputId": "f2abfc04-0429-4b40-ee4e-c5f64be301d6",
        "colab": {
          "base_uri": "https://localhost:8080/",
          "height": 340
        }
      },
      "source": [
        "## For loop with range\n",
        "print('For loop with range')\n",
        "a=0\n",
        "for i in range(20):\n",
        "  a+=i\n",
        "  print('a is equal to: {}'.format(a))\n",
        "  if i>=3:\n",
        "    break\n",
        "\n",
        "## For loop over a list\n",
        "print('*'*40)\n",
        "print('For loop over a list')\n",
        "\n",
        "colors =['red', 'blue', 'green', 'black','yellow']\n",
        "for i in (colors):\n",
        "  if i.startswith('b'):\n",
        "    print(i)\n",
        "\n",
        "## For loop with enumerate\n",
        "print('*'*40)\n",
        "print('For loop with enumerate')\n",
        "\n",
        "for ind, i in enumerate(colors):\n",
        "  if (ind%2 == 0):\n",
        "    colors[ind] = 'white'\n",
        "print(colors)\n",
        "\n",
        "## While loop\n",
        "print('*'*40)\n",
        "print('While loop')\n",
        "\n",
        "colors =['red', 'blue', 'green', 'black','yellow']\n",
        "i = 0\n",
        "while colors[i] != 'black':\n",
        "  i+=1\n",
        "print('the value of index i:{0}, and the color is:{1}'.format(i,colors[i]))\n",
        "\n",
        "## List Comprehensions\n",
        "print('*'*40)\n",
        "print('List Comprehensions')\n",
        "squares = [x**2 for x in range(10)]\n",
        "print(squares)\n",
        "\n",
        "squares_even = [x**2 for x in range(10) if x%2 ==0 ]\n",
        "print(squares_even)"
      ],
      "execution_count": 0,
      "outputs": [
        {
          "output_type": "stream",
          "text": [
            "For loop with range\n",
            "a is equal to: 0\n",
            "a is equal to: 1\n",
            "a is equal to: 3\n",
            "a is equal to: 6\n",
            "****************************************\n",
            "For loop over a list\n",
            "blue\n",
            "black\n",
            "****************************************\n",
            "For loop with enumerate\n",
            "['white', 'blue', 'white', 'black', 'white']\n",
            "****************************************\n",
            "While loop\n",
            "the value of index i:3, and the color is:black\n",
            "****************************************\n",
            "List Comprehensions\n",
            "[0, 1, 4, 9, 16, 25, 36, 49, 64, 81]\n",
            "[0, 4, 16, 36, 64]\n"
          ],
          "name": "stdout"
        }
      ]
    },
    {
      "cell_type": "markdown",
      "metadata": {
        "id": "Ik6mhCZLFJP9",
        "colab_type": "text"
      },
      "source": [
        "* range() function returns a sequence of numbers. range(start =0, stop = max value, step =1)<br>\n",
        "for more details: \n",
        "https://www.pythoncentral.io/pythons-range-function-explained/\n",
        "* Enumerate() method adds a counter to an iterable and returns it in a form of enumerate object.\n",
        "for more details: http://book.pythontips.com/en/latest/enumerate.html"
      ]
    },
    {
      "cell_type": "markdown",
      "metadata": {
        "id": "tgNddc0k4aaM",
        "colab_type": "text"
      },
      "source": [
        "## 1.5 Functions\n",
        "\n",
        "As simple as it is, Functions take input, and then produce output. For us, it's just a piece of code that we can reuse. \n",
        "\n",
        "Some examples of built-in functions:\n",
        "* len() - takes a list, dictionary or a string and returns the length of the sequence\n",
        "* sum() - takes a list and returns the sum of all the elements\n",
        "* sorted() - this function returns a new list of sorted values \n",
        "\n",
        "\n",
        "for more information about functions and how they differ from method please look at the book 'Python tutorial' in the resources "
      ]
    },
    {
      "cell_type": "code",
      "metadata": {
        "id": "9aq1fA6R6Psz",
        "colab_type": "code",
        "outputId": "f6e86d9b-3c46-49b4-cd5a-16ed73c91ce9",
        "colab": {
          "base_uri": "https://localhost:8080/",
          "height": 170
        }
      },
      "source": [
        "print('*'*40)\n",
        "print('add one function')\n",
        "\n",
        "def add_one(num):\n",
        "  # the name of the function is 'add_one'\n",
        "  # the input is num\n",
        "  # the output is num+1\n",
        "  num+=1\n",
        "  return num\n",
        "\n",
        "a = 1\n",
        "print('the output of add_one is:', add_one(a))\n",
        "print('a is equal to:', a)\n",
        "\n",
        "print('*'*40)\n",
        "print('print dict function')\n",
        "def print_keys_values(d):\n",
        "  # the name of the function is 'print_keys_values'\n",
        "  # the input is d\n",
        "  # there is no output, but the function prints the keys and values of the dict\n",
        "  for i in d:\n",
        "    print('city: {0}, number: {1}'.format(i,d[i]))\n",
        "\n",
        "cities_d = {'Tel-aviv': 50, 'Haifa':20, 'Ashdod':80}\n",
        "print_keys_values(cities_d)"
      ],
      "execution_count": 0,
      "outputs": [
        {
          "output_type": "stream",
          "text": [
            "****************************************\n",
            "add one function\n",
            "the output of add_one is: 2\n",
            "a is equal to: 1\n",
            "****************************************\n",
            "print dict function\n",
            "city: Tel-aviv, number: 50\n",
            "city: Haifa, number: 20\n",
            "city: Ashdod, number: 80\n"
          ],
          "name": "stdout"
        }
      ]
    },
    {
      "cell_type": "markdown",
      "metadata": {
        "id": "zCNQx4d698ha",
        "colab_type": "text"
      },
      "source": [
        "# 2. numpy\n",
        "Numpy is the core library for scientific computing in Python. It provides a high-performance multidimensional array object, and tools for working with these arrays.\n",
        "\n",
        "A great introduction to Numpy:\n",
        "\n",
        "http://cs231n.github.io/python-numpy-tutorial/\n"
      ]
    },
    {
      "cell_type": "code",
      "metadata": {
        "id": "V_ccU34g98hb",
        "colab_type": "code",
        "colab": {}
      },
      "source": [
        "import numpy as np"
      ],
      "execution_count": 0,
      "outputs": []
    },
    {
      "cell_type": "code",
      "metadata": {
        "id": "VNs0AjUi98he",
        "colab_type": "code",
        "outputId": "3f72162c-f93d-4060-bc00-39623f802ef2",
        "colab": {
          "base_uri": "https://localhost:8080/",
          "height": 51
        }
      },
      "source": [
        "my_array1 = np.array(mylist1)\n",
        "print(my_array1, 'in Shape of:',my_array1.shape)\n",
        "print(my_array1[0])"
      ],
      "execution_count": 0,
      "outputs": [
        {
          "output_type": "stream",
          "text": [
            "['Hello' 'World' '2020' 'H' 'A' 'P' 'P' 'Y'] in Shape of: (8,)\n",
            "Hello\n"
          ],
          "name": "stdout"
        }
      ]
    },
    {
      "cell_type": "code",
      "metadata": {
        "id": "jjSVtaLA98hg",
        "colab_type": "code",
        "outputId": "7516980b-af56-4ad9-c320-049992fee291",
        "colab": {
          "base_uri": "https://localhost:8080/",
          "height": 119
        }
      },
      "source": [
        "arr1 = np.array(range(4))\n",
        "arr2 = np.array([8,4,6,5])\n",
        "print('arr1:', arr1)\n",
        "print('arr2:', arr2)\n",
        "print('Addition',arr1 + arr2)\n",
        "print('Scalar multiplication', 10*arr1)\n",
        "print('element-wise Multiplication', arr1 * arr2) # matrix Multiplication in 2d\n",
        "print('Dot product',arr1 @ arr2) #can also be written as np.dot(arr1, arr2)  \n"
      ],
      "execution_count": 0,
      "outputs": [
        {
          "output_type": "stream",
          "text": [
            "arr1: [0 1 2 3]\n",
            "arr2: [8 4 6 5]\n",
            "Addition [8 5 8 8]\n",
            "Scalar multiplication [ 0 10 20 30]\n",
            "element-wise Multiplication [ 0  4 12 15]\n",
            "Dot product 31\n"
          ],
          "name": "stdout"
        }
      ]
    },
    {
      "cell_type": "code",
      "metadata": {
        "id": "o-iD9bc398hi",
        "colab_type": "code",
        "outputId": "03bbe2a8-529a-41f6-c14c-b95cfe84ec62",
        "colab": {
          "base_uri": "https://localhost:8080/",
          "height": 170
        }
      },
      "source": [
        "a = np.array([[1,2,3,4], [5,6,7,8], [9,10,11,12]])\n",
        "print ('a=\\n',a, '\\nshape of a=\\n',a.shape,'\\n********')\n",
        "b = a[:2, 1:3]\n",
        "print(b)"
      ],
      "execution_count": 0,
      "outputs": [
        {
          "output_type": "stream",
          "text": [
            "a=\n",
            " [[ 1  2  3  4]\n",
            " [ 5  6  7  8]\n",
            " [ 9 10 11 12]] \n",
            "shape of a=\n",
            " (3, 4) \n",
            "********\n",
            "[[2 3]\n",
            " [6 7]]\n"
          ],
          "name": "stdout"
        }
      ]
    },
    {
      "cell_type": "markdown",
      "metadata": {
        "id": "S-YPRRZX98hk",
        "colab_type": "text"
      },
      "source": [
        "A slice of an array is a view into the same data, so modifying it will modify the original array."
      ]
    },
    {
      "cell_type": "code",
      "metadata": {
        "id": "GHIapdWl98hl",
        "colab_type": "code",
        "outputId": "9ce3c1e4-06ea-45b7-da15-6e48009f5cbb",
        "colab": {
          "base_uri": "https://localhost:8080/",
          "height": 153
        }
      },
      "source": [
        "b[0, 0] = 77     # b[0, 0] is the same piece of data as a[0, 1]\n",
        "print(a[0, 1])   \n",
        "\n",
        "print(a)\n",
        "print(a <8)\n",
        "a[a<8]"
      ],
      "execution_count": 0,
      "outputs": [
        {
          "output_type": "stream",
          "text": [
            "77\n",
            "[[ 1 77  3  4]\n",
            " [ 5  6  7  8]\n",
            " [ 9 10 11 12]]\n",
            "[[ True False  True  True]\n",
            " [ True  True  True False]\n",
            " [False False False False]]\n"
          ],
          "name": "stdout"
        },
        {
          "output_type": "execute_result",
          "data": {
            "text/plain": [
              "array([1, 3, 4, 5, 6, 7])"
            ]
          },
          "metadata": {
            "tags": []
          },
          "execution_count": 163
        }
      ]
    },
    {
      "cell_type": "markdown",
      "metadata": {
        "id": "Y3RMXA-J98hq",
        "colab_type": "text"
      },
      "source": [
        "to get around this feature we can use copy"
      ]
    },
    {
      "cell_type": "code",
      "metadata": {
        "id": "RNDTJLW898hr",
        "colab_type": "code",
        "outputId": "6a7ce034-6176-4da0-969c-0c3de206f2fc",
        "colab": {
          "base_uri": "https://localhost:8080/",
          "height": 85
        }
      },
      "source": [
        "import copy\n",
        "\n",
        "c = copy.copy(a[:2, 1:3])\n",
        "c[0,0] = 2222\n",
        "print(a[:2, 1:3])\n",
        "print(c)"
      ],
      "execution_count": 0,
      "outputs": [
        {
          "output_type": "stream",
          "text": [
            "[[77  3]\n",
            " [ 6  7]]\n",
            "[[2222    3]\n",
            " [   6    7]]\n"
          ],
          "name": "stdout"
        }
      ]
    },
    {
      "cell_type": "markdown",
      "metadata": {
        "id": "McVGa9gsJSC7",
        "colab_type": "text"
      },
      "source": [
        "Simple example for the end"
      ]
    },
    {
      "cell_type": "code",
      "metadata": {
        "id": "0uRUrq2EJUvy",
        "colab_type": "code",
        "outputId": "214cc30d-c1de-4bef-dc64-424328944dbb",
        "colab": {
          "base_uri": "https://localhost:8080/",
          "height": 282
        }
      },
      "source": [
        "x = np.linspace(-9,9,100)\n",
        "y = np.sin(x) + np.random.normal(loc = 0, scale = 0.5, size = 100)\n",
        "\n",
        "import matplotlib.pyplot as plt\n",
        "\n",
        "plt.plot(x,y, linewidth = 2)\n",
        "plt.plot(x,np.sin(x), linewidth = 3)"
      ],
      "execution_count": 0,
      "outputs": [
        {
          "output_type": "execute_result",
          "data": {
            "text/plain": [
              "[<matplotlib.lines.Line2D at 0x7feb84561d68>]"
            ]
          },
          "metadata": {
            "tags": []
          },
          "execution_count": 185
        },
        {
          "output_type": "display_data",
          "data": {
            "image/png": "[encoded data removed]",
            "text/plain": [
              "<Figure size 432x288 with 1 Axes>"
            ]
          },
          "metadata": {
            "tags": []
          }
        }
      ]
    }
  ]
}